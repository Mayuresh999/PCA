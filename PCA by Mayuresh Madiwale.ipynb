{
 "cells": [
  {
   "cell_type": "code",
   "execution_count": 1,
   "id": "3ba0b8d4",
   "metadata": {},
   "outputs": [],
   "source": [
    "import numpy as np\n",
    "import pandas as pd\n",
    "from sklearn.decomposition import PCA"
   ]
  },
  {
   "cell_type": "code",
   "execution_count": 2,
   "id": "520d3803",
   "metadata": {},
   "outputs": [],
   "source": [
    "data = np.matrix([[1,2,4],\n",
    "               [4,1,2],\n",
    "               [5,4,8]])\n",
    "\n",
    "df = pd.DataFrame(data)"
   ]
  },
  {
   "cell_type": "code",
   "execution_count": 3,
   "id": "6830c0e6",
   "metadata": {},
   "outputs": [
    {
     "data": {
      "text/html": [
       "<div>\n",
       "<style scoped>\n",
       "    .dataframe tbody tr th:only-of-type {\n",
       "        vertical-align: middle;\n",
       "    }\n",
       "\n",
       "    .dataframe tbody tr th {\n",
       "        vertical-align: top;\n",
       "    }\n",
       "\n",
       "    .dataframe thead th {\n",
       "        text-align: right;\n",
       "    }\n",
       "</style>\n",
       "<table border=\"1\" class=\"dataframe\">\n",
       "  <thead>\n",
       "    <tr style=\"text-align: right;\">\n",
       "      <th></th>\n",
       "      <th>0</th>\n",
       "      <th>1</th>\n",
       "      <th>2</th>\n",
       "    </tr>\n",
       "  </thead>\n",
       "  <tbody>\n",
       "    <tr>\n",
       "      <th>0</th>\n",
       "      <td>-1.120897</td>\n",
       "      <td>-0.218218</td>\n",
       "      <td>-0.218218</td>\n",
       "    </tr>\n",
       "    <tr>\n",
       "      <th>1</th>\n",
       "      <td>0.320256</td>\n",
       "      <td>-0.872872</td>\n",
       "      <td>-0.872872</td>\n",
       "    </tr>\n",
       "    <tr>\n",
       "      <th>2</th>\n",
       "      <td>0.800641</td>\n",
       "      <td>1.091089</td>\n",
       "      <td>1.091089</td>\n",
       "    </tr>\n",
       "  </tbody>\n",
       "</table>\n",
       "</div>"
      ],
      "text/plain": [
       "          0         1         2\n",
       "0 -1.120897 -0.218218 -0.218218\n",
       "1  0.320256 -0.872872 -0.872872\n",
       "2  0.800641  1.091089  1.091089"
      ]
     },
     "execution_count": 3,
     "metadata": {},
     "output_type": "execute_result"
    }
   ],
   "source": [
    "# standardize data \n",
    "standardized_data  = (df - df.mean()) / (df.std())\n",
    "standardized_data"
   ]
  },
  {
   "cell_type": "code",
   "execution_count": 4,
   "id": "b0f80562",
   "metadata": {},
   "outputs": [],
   "source": [
    "n_components = 3\n",
    "pca_sklearn = (PCA(n_components).fit_transform(standardized_data))"
   ]
  },
  {
   "cell_type": "code",
   "execution_count": 5,
   "id": "d5f6ef6d",
   "metadata": {},
   "outputs": [
    {
     "name": "stdout",
     "output_type": "stream",
     "text": [
      "PCA - sklearn\n",
      "[[-0.75  0.89  0.  ]\n",
      " [-0.98 -0.81  0.  ]\n",
      " [ 1.74 -0.08  0.  ]]\n"
     ]
    }
   ],
   "source": [
    "print('PCA - sklearn')\n",
    "print(pca_sklearn.round(2))"
   ]
  }
 ],
 "metadata": {
  "kernelspec": {
   "display_name": "Python 3",
   "language": "python",
   "name": "python3"
  },
  "language_info": {
   "codemirror_mode": {
    "name": "ipython",
    "version": 3
   },
   "file_extension": ".py",
   "mimetype": "text/x-python",
   "name": "python",
   "nbconvert_exporter": "python",
   "pygments_lexer": "ipython3",
   "version": "3.8.8"
  }
 },
 "nbformat": 4,
 "nbformat_minor": 5
}
